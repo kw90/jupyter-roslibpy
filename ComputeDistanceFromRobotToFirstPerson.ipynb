{
 "cells": [
  {
   "cell_type": "code",
   "execution_count": 1,
   "metadata": {},
   "outputs": [
    {
     "name": "stdout",
     "output_type": "stream",
     "text": [
      "Is ROS connected? True\n"
     ]
    }
   ],
   "source": [
    "import roslibpy\n",
    "\n",
    "client = roslibpy.Ros(host='robot-mb-01', port=9090)\n",
    "client.run()\n",
    "print('Is ROS connected?', client.is_connected)"
   ]
  },
  {
   "cell_type": "code",
   "execution_count": 2,
   "metadata": {},
   "outputs": [],
   "source": [
    "first_person_pose = {}\n",
    "robot_pose = {}"
   ]
  },
  {
   "cell_type": "code",
   "execution_count": 3,
   "metadata": {},
   "outputs": [],
   "source": [
    "def set_robot_pose(pose):\n",
    "    global robot_pose\n",
    "    robot_pose = { 'x': pose['x'] , 'y': pose['y'] }"
   ]
  },
  {
   "cell_type": "code",
   "execution_count": 4,
   "metadata": {},
   "outputs": [],
   "source": [
    "def set_first_person_pose(people):\n",
    "    global first_person_pose\n",
    "    if len(people) == 1:\n",
    "        #print('One person spotted')\n",
    "        first_person_pose = { 'x': people[0]['position']['x'] , 'y': people[0]['position']['y'] }\n",
    "    elif len(people) > 1:\n",
    "        print('More than one person spotted -> using position of the highest reliability detection')\n",
    "        highest_reliability = 0\n",
    "        highest_index = 0\n",
    "        for i, person in enumerate(people):\n",
    "            if person['reliability'] > highest_reliability:\n",
    "                highest_index = i\n",
    "                highest_reliability = person['reliability']\n",
    "        person_pose = { 'x': people[highest_index]['position']['x'] , 'y': people[highest_index]['position']['y'] }"
   ]
  },
  {
   "cell_type": "code",
   "execution_count": 5,
   "metadata": {},
   "outputs": [],
   "source": [
    "robot_listener = roslibpy.Topic(client, '/robot_pose', 'geometry_msgs/PoseStamped')\n",
    "robot_listener.subscribe(lambda message: set_robot_pose(message['pose']['position']))"
   ]
  },
  {
   "cell_type": "code",
   "execution_count": 6,
   "metadata": {},
   "outputs": [],
   "source": [
    "people_listener = roslibpy.Topic(client, '/people', 'people_msgs/People')\n",
    "people_listener.subscribe(lambda message: set_first_person_pose(message['people']))"
   ]
  },
  {
   "cell_type": "code",
   "execution_count": 9,
   "metadata": {},
   "outputs": [
    {
     "data": {
      "text/plain": [
       "({'x': 0.05000000000000001, 'y': -0.04999999999999999},\n",
       " {'x': -1.1153478358238886, 'y': -4.023293544730814})"
      ]
     },
     "execution_count": 9,
     "metadata": {},
     "output_type": "execute_result"
    }
   ],
   "source": [
    "robot_pose, first_person_pose"
   ]
  },
  {
   "cell_type": "code",
   "execution_count": 10,
   "metadata": {},
   "outputs": [
    {
     "data": {
      "text/plain": [
       "4.143114443492141"
      ]
     },
     "metadata": {},
     "output_type": "display_data"
    },
    {
     "ename": "KeyboardInterrupt",
     "evalue": "",
     "output_type": "error",
     "traceback": [
      "\u001b[0;31m---------------------------------------------------------------------------\u001b[0m",
      "\u001b[0;31mKeyboardInterrupt\u001b[0m                         Traceback (most recent call last)",
      "\u001b[0;32m<ipython-input-10-68ad72fabf4a>\u001b[0m in \u001b[0;36m<module>\u001b[0;34m\u001b[0m\n\u001b[1;32m     10\u001b[0m     \u001b[0mdistance\u001b[0m \u001b[0;34m=\u001b[0m \u001b[0msqrt\u001b[0m\u001b[0;34m(\u001b[0m\u001b[0mx_sq\u001b[0m\u001b[0;34m+\u001b[0m\u001b[0my_sq\u001b[0m\u001b[0;34m)\u001b[0m\u001b[0;34m\u001b[0m\u001b[0;34m\u001b[0m\u001b[0m\n\u001b[1;32m     11\u001b[0m     \u001b[0mdisplay\u001b[0m\u001b[0;34m(\u001b[0m\u001b[0mdistance\u001b[0m\u001b[0;34m)\u001b[0m\u001b[0;34m\u001b[0m\u001b[0;34m\u001b[0m\u001b[0m\n\u001b[0;32m---> 12\u001b[0;31m     \u001b[0msleep\u001b[0m\u001b[0;34m(\u001b[0m\u001b[0;36m1\u001b[0m\u001b[0;34m)\u001b[0m\u001b[0;34m\u001b[0m\u001b[0;34m\u001b[0m\u001b[0m\n\u001b[0m",
      "\u001b[0;31mKeyboardInterrupt\u001b[0m: "
     ]
    }
   ],
   "source": [
    "from math import sqrt\n",
    "from time import sleep\n",
    "from IPython.display import display, clear_output\n",
    "\n",
    "while(True):\n",
    "    clear_output(wait=True)\n",
    "    x_sq = pow(robot_pose['x'] - first_person_pose['x'], 2)\n",
    "    y_sq = pow(robot_pose['y'] - first_person_pose['y'], 2)\n",
    "\n",
    "    distance = sqrt(x_sq+y_sq)\n",
    "    display(distance)\n",
    "    sleep(1)"
   ]
  },
  {
   "cell_type": "code",
   "execution_count": 11,
   "metadata": {},
   "outputs": [],
   "source": [
    "robot_listener.unsubscribe()\n",
    "people_listener.unsubscribe()"
   ]
  }
 ],
 "metadata": {
  "kernelspec": {
   "display_name": "Python 3",
   "language": "python",
   "name": "python3"
  },
  "language_info": {
   "codemirror_mode": {
    "name": "ipython",
    "version": 3
   },
   "file_extension": ".py",
   "mimetype": "text/x-python",
   "name": "python",
   "nbconvert_exporter": "python",
   "pygments_lexer": "ipython3",
   "version": "3.7.6"
  }
 },
 "nbformat": 4,
 "nbformat_minor": 4
}
